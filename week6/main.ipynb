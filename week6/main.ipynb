{
 "cells": [
  {
   "cell_type": "code",
   "execution_count": 1,
   "metadata": {},
   "outputs": [
    {
     "ename": "ModuleNotFoundError",
     "evalue": "No module named 'cv2'",
     "output_type": "error",
     "traceback": [
      "\u001b[1;31m---------------------------------------------------------------------------\u001b[0m",
      "\u001b[1;31mModuleNotFoundError\u001b[0m                       Traceback (most recent call last)",
      "\u001b[1;32mc:\\Semester 5\\PCVK\\week7\\main.ipynb Cell 1\u001b[0m line \u001b[0;36m3\n\u001b[0;32m      <a href='vscode-notebook-cell:/c%3A/Semester%205/PCVK/week7/main.ipynb#W0sZmlsZQ%3D%3D?line=0'>1</a>\u001b[0m \u001b[39mfrom\u001b[39;00m \u001b[39mPIL\u001b[39;00m \u001b[39mimport\u001b[39;00m Image\n\u001b[0;32m      <a href='vscode-notebook-cell:/c%3A/Semester%205/PCVK/week7/main.ipynb#W0sZmlsZQ%3D%3D?line=1'>2</a>\u001b[0m \u001b[39mimport\u001b[39;00m \u001b[39mnumpy\u001b[39;00m \u001b[39mas\u001b[39;00m \u001b[39mnp\u001b[39;00m\n\u001b[1;32m----> <a href='vscode-notebook-cell:/c%3A/Semester%205/PCVK/week7/main.ipynb#W0sZmlsZQ%3D%3D?line=2'>3</a>\u001b[0m \u001b[39mimport\u001b[39;00m \u001b[39mcv2\u001b[39;00m\n\u001b[0;32m      <a href='vscode-notebook-cell:/c%3A/Semester%205/PCVK/week7/main.ipynb#W0sZmlsZQ%3D%3D?line=3'>4</a>\u001b[0m \u001b[39mimport\u001b[39;00m \u001b[39mmatplotlib\u001b[39;00m\u001b[39m.\u001b[39;00m\u001b[39mpyplot\u001b[39;00m \u001b[39mas\u001b[39;00m \u001b[39mplt\u001b[39;00m\n\u001b[0;32m      <a href='vscode-notebook-cell:/c%3A/Semester%205/PCVK/week7/main.ipynb#W0sZmlsZQ%3D%3D?line=5'>6</a>\u001b[0m \u001b[39m# Open image and ensure RGB\u001b[39;00m\n",
      "\u001b[1;31mModuleNotFoundError\u001b[0m: No module named 'cv2'"
     ]
    }
   ],
   "source": [
    "from PIL import Image\n",
    "import numpy as np\n",
    "import cv2\n",
    "import matplotlib.pyplot as plt\n",
    "\n",
    "# Open image and ensure RGB\n",
    "im = Image.open('lena.jpg').convert('RGB')\n",
    "\n",
    "# Make into Numpy array\n",
    "na = np.array(im)\n",
    "\n",
    "def hitung_pixel(image):\n",
    "  red = {}\n",
    "  green = {}\n",
    "  blue = {}\n",
    "\n",
    "  # Akses per pixel\n",
    "  for y in range(image.shape[0]):\n",
    "    for x in range(image.shape[1]):\n",
    "      b = int(image[y, x, 0])\n",
    "      g = int(image[y, x, 1])\n",
    "      r = int(image[y, x, 2])\n",
    "\n",
    "      if r in red:\n",
    "        red[r] += 1\n",
    "      else:\n",
    "        red[r] = 1\n",
    "\n",
    "      if g in green:\n",
    "        green[g] += 1\n",
    "      else:\n",
    "        green[g] = 1\n",
    "\n",
    "      if b in blue:\n",
    "        blue[b] += 1\n",
    "      else:\n",
    "        blue[b] = 1\n",
    "\n",
    "  return red, green, blue\n",
    "\n",
    "def buat_histogram(intensitas, warna):\n",
    "  plt.figure(figsize=(10, 6))\n",
    "  plt.bar(intensitas.keys(), intensitas.values(), color=warna.lower(), alpha=0.7)\n",
    "  plt.title(f'Histogram Warna {warna.capitalize()}')\n",
    "  plt.xlabel('Intensitas Warna')\n",
    "  plt.ylabel('Jumlah Kemunculan')\n",
    "  plt.show()\n",
    "\n",
    "# Call the histogram function for each color channel\n",
    "red = histogram(intensitas_merah, 'red')\n",
    "green = histogram(intensitas_hijau, 'green')\n",
    "blue = histogram(intensitas_biru, 'blue')\n",
    "\n",
    "# Concatenate the histograms horizontally\n",
    "final_frame = cv2.hconcat((red, green, blue))\n",
    "\n",
    "# Display the final frame\n",
    "cv2.imshow('Final Frame', final_frame)"
   ]
  }
 ],
 "metadata": {
  "kernelspec": {
   "display_name": "base",
   "language": "python",
   "name": "python3"
  },
  "language_info": {
   "codemirror_mode": {
    "name": "ipython",
    "version": 3
   },
   "file_extension": ".py",
   "mimetype": "text/x-python",
   "name": "python",
   "nbconvert_exporter": "python",
   "pygments_lexer": "ipython3",
   "version": "3.11.4"
  }
 },
 "nbformat": 4,
 "nbformat_minor": 2
}
